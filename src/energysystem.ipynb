{
 "cells": [
  {
   "cell_type": "code",
   "execution_count": 1,
   "metadata": {},
   "outputs": [],
   "source": [
    "from oemof import solph\n",
    "\n",
    "import pandas as pd\n",
    "import numpy as np"
   ]
  },
  {
   "cell_type": "code",
   "execution_count": 2,
   "metadata": {},
   "outputs": [],
   "source": [
    "df = pd.read_csv(\"time_series.csv\", index_col=0, parse_dates=True)"
   ]
  },
  {
   "cell_type": "code",
   "execution_count": 3,
   "metadata": {},
   "outputs": [],
   "source": [
    "es = solph.EnergySystem(timeindex=df.index, infer_last_interval=False)"
   ]
  },
  {
   "cell_type": "code",
   "execution_count": 4,
   "metadata": {},
   "outputs": [],
   "source": [
    "b_gas = solph.Bus(\"gas bus\")\n",
    "b_electricity = solph.Bus(\"electricity bus\")\n",
    "b_heat = solph.Bus(\"heat bus\")\n",
    "\n",
    "source_gas = solph.components.Source(\"gas grid import\", outputs={b_gas: solph.Flow(variable_costs=df[\"gas_price\"] + df[\"co2_price\"])})\n",
    "source_electricity = solph.components.Source(\"electricity grid import\", outputs={b_electricity: solph.Flow(variable_costs=df[\"el_spot_price\"])})\n",
    "sink_heat = solph.components.Sink(\"heat demand\", inputs={b_heat: solph.Flow(fix=df[\"heat\"], nominal_value=1)})\n",
    "\n",
    "heat_pump = solph.components.Converter(\n",
    "    label=\"heat pump\",\n",
    "    inputs={b_electricity: solph.Flow()},\n",
    "    outputs={b_heat: solph.Flow(nominal_value=100)},\n",
    "    conversion_factors={b_heat: 3.5}\n",
    ")\n",
    "boiler = solph.components.Converter(\n",
    "    label=\"gas boiler\",\n",
    "    inputs={b_gas: solph.Flow()},\n",
    "    outputs={b_heat: solph.Flow(nominal_value=100)},\n",
    "    conversion_factors={b_heat: 0.9}\n",
    ")\n",
    "\n",
    "heat_slack = solph.components.Source(\n",
    "    label=\"heat slack\",\n",
    "    outputs={b_heat: solph.Flow(variable_costs=1000)}\n",
    ")\n",
    "\n",
    "storage = solph.components.GenericStorage(\n",
    "    label=\"heat storage\",\n",
    "    inputs={b_heat: solph.Flow(nominal_value=50)},\n",
    "    outputs={b_heat: solph.Flow(nominal_value=50)},\n",
    "    nominal_storage_capacity=24 * 50\n",
    ")\n",
    "\n",
    "es.add(\n",
    "    b_gas, b_electricity, b_heat,\n",
    "    source_electricity, source_gas, sink_heat, heat_slack,\n",
    "    heat_pump, boiler, storage\n",
    ")"
   ]
  },
  {
   "cell_type": "code",
   "execution_count": 5,
   "metadata": {},
   "outputs": [
    {
     "name": "stderr",
     "output_type": "stream",
     "text": [
      "c:\\Users\\witt_fa\\.conda\\envs\\tsam-oemof\\Lib\\site-packages\\oemof\\solph\\_models.py:497: FutureWarning: Series.__getitem__ treating keys as positions is deprecated. In a future version, integer keys will always be treated as labels (consistent with DataFrame behavior). To access a value by position, use `ser.iloc[pos]`\n",
      "  if self.flows[o, i].fix[self.TIMESTEPS.at(1)] is not None:\n",
      "c:\\Users\\witt_fa\\.conda\\envs\\tsam-oemof\\Lib\\site-packages\\oemof\\solph\\_models.py:500: FutureWarning: Series.__getitem__ treating keys as positions is deprecated. In a future version, integer keys will always be treated as labels (consistent with DataFrame behavior). To access a value by position, use `ser.iloc[pos]`\n",
      "  self.flows[o, i].fix[t]\n",
      "c:\\Users\\witt_fa\\.conda\\envs\\tsam-oemof\\Lib\\site-packages\\oemof\\solph\\flows\\_simple_flow_block.py:464: FutureWarning: Series.__getitem__ treating keys as positions is deprecated. In a future version, integer keys will always be treated as labels (consistent with DataFrame behavior). To access a value by position, use `ser.iloc[pos]`\n",
      "  if m.flows[i, o].variable_costs[0] is not None:\n",
      "c:\\Users\\witt_fa\\.conda\\envs\\tsam-oemof\\Lib\\site-packages\\oemof\\solph\\flows\\_simple_flow_block.py:469: FutureWarning: Series.__getitem__ treating keys as positions is deprecated. In a future version, integer keys will always be treated as labels (consistent with DataFrame behavior). To access a value by position, use `ser.iloc[pos]`\n",
      "  * m.flows[i, o].variable_costs[t]\n"
     ]
    }
   ],
   "source": [
    "model = solph.Model(es)\n",
    "\n",
    "_ = model.solve(\"gurobi\")\n",
    "\n",
    "results = solph.views.convert_keys_to_strings(model.results())"
   ]
  },
  {
   "cell_type": "code",
   "execution_count": 6,
   "metadata": {},
   "outputs": [],
   "source": [
    "total_cost_el = np.sum((\n",
    "    results[\"electricity grid import\", \"electricity bus\"][\"sequences\"][\"flow\"].values\n",
    "    * df[\"el_spot_price\"].values\n",
    ")[:-1])\n",
    "\n",
    "total_cost_gas = np.sum((\n",
    "    results[\"gas grid import\", \"gas bus\"][\"sequences\"][\"flow\"].values\n",
    "    * (df[\"gas_price\"].values + df[\"co2_price\"].values)\n",
    ")[:-1])\n",
    "\n",
    "total_cost_slack = results[\"heat slack\", \"heat bus\"][\"sequences\"][\"flow\"].sum() * 1000\n",
    "\n",
    "total_heat_by_heat_pump = results[\"heat pump\", \"heat bus\"][\"sequences\"][\"flow\"].sum()\n",
    "total_heat_by_boiler = results[\"gas boiler\", \"heat bus\"][\"sequences\"][\"flow\"].sum()\n",
    "total_heat_by_slack = results[\"heat slack\", \"heat bus\"][\"sequences\"][\"flow\"].sum()"
   ]
  },
  {
   "cell_type": "code",
   "execution_count": 7,
   "metadata": {},
   "outputs": [
    {
     "data": {
      "text/plain": [
       "<BarContainer object of 1 artists>"
      ]
     },
     "execution_count": 7,
     "metadata": {},
     "output_type": "execute_result"
    },
    {
     "data": {
      "image/png": "[encoded data removed]",
      "text/plain": [
       "<Figure size 640x480 with 2 Axes>"
      ]
     },
     "metadata": {},
     "output_type": "display_data"
    }
   ],
   "source": [
    "import matplotlib.pyplot as plt\n",
    "\n",
    "fig, ax = plt.subplots(1, 2)\n",
    "\n",
    "ax = ax.flatten()\n",
    "\n",
    "ax[0].bar([1], [total_heat_by_boiler], bottom=0)\n",
    "ax[0].bar([1], [total_heat_by_heat_pump], bottom=total_heat_by_boiler)\n",
    "ax[0].bar([1], [total_heat_by_slack], bottom=total_heat_by_boiler + total_heat_by_heat_pump)\n",
    "\n",
    "ax[1].bar([1], [total_cost_gas])\n",
    "ax[1].bar([1], [total_cost_el], bottom=total_cost_gas)\n",
    "ax[1].bar([1], [total_cost_slack], bottom=total_cost_el + total_cost_gas)"
   ]
  }
 ],
 "metadata": {
  "kernelspec": {
   "display_name": "tsam-oemof",
   "language": "python",
   "name": "python3"
  },
  "language_info": {
   "codemirror_mode": {
    "name": "ipython",
    "version": 3
   },
   "file_extension": ".py",
   "mimetype": "text/x-python",
   "name": "python",
   "nbconvert_exporter": "python",
   "pygments_lexer": "ipython3",
   "version": "3.11.9"
  }
 },
 "nbformat": 4,
 "nbformat_minor": 2
}
